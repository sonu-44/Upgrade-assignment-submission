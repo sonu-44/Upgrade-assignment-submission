{
 "cells": [
  {
   "cell_type": "raw",
   "metadata": {},
   "source": [
    "Given the following jumbled word, OBANWRI guess the correct English word\n",
    "A. RANIBOW\n",
    "B. RAINBOW\n",
    "C. BOWRANI\n",
    "D. ROBWANI\n",
    "\n"
   ]
  },
  {
   "cell_type": "raw",
   "metadata": {},
   "source": [
    "B. RAINBOW\n"
   ]
  },
  {
   "cell_type": "code",
   "execution_count": 34,
   "metadata": {},
   "outputs": [
    {
     "name": "stdout",
     "output_type": "stream",
     "text": [
      "LETS UPGRADE\n"
     ]
    }
   ],
   "source": [
    "print(\"LETS UPGRADE\")"
   ]
  },
  {
   "cell_type": "code",
   "execution_count": 38,
   "metadata": {},
   "outputs": [
    {
     "name": "stdout",
     "output_type": "stream",
     "text": [
      "20\n",
      "20\n",
      "Neither\n"
     ]
    }
   ],
   "source": [
    "CP = input()\n",
    "SP = input()\n",
    "if (SP>CP):\n",
    "    print(\"profit\")\n",
    "elif (CP<SP):\n",
    "    print(\"Loss\")\n",
    "else:\n",
    "     print(\"Neither\")"
   ]
  },
  {
   "cell_type": "code",
   "execution_count": 1,
   "metadata": {},
   "outputs": [
    {
     "name": "stdout",
     "output_type": "stream",
     "text": [
      "20\n",
      "1600\n"
     ]
    }
   ],
   "source": [
    "euro = int(input())\n",
    "Inrupee = 80*euro\n",
    "print(Inrupee)"
   ]
  },
  {
   "cell_type": "code",
   "execution_count": null,
   "metadata": {},
   "outputs": [],
   "source": [
    " "
   ]
  }
 ],
 "metadata": {
  "kernelspec": {
   "display_name": "Python 3",
   "language": "python",
   "name": "python3"
  },
  "language_info": {
   "codemirror_mode": {
    "name": "ipython",
    "version": 3
   },
   "file_extension": ".py",
   "mimetype": "text/x-python",
   "name": "python",
   "nbconvert_exporter": "python",
   "pygments_lexer": "ipython3",
   "version": "3.7.4"
  }
 },
 "nbformat": 4,
 "nbformat_minor": 2
}
