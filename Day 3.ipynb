{
 "cells": [
  {
   "cell_type": "code",
   "execution_count": 16,
   "metadata": {},
   "outputs": [
    {
     "name": "stdout",
     "output_type": "stream",
     "text": [
      "[ 2  5  8 11 14 17 20 23 26 29 32 35 38 41 44 47]\n"
     ]
    }
   ],
   "source": [
    "#import numpy \n",
    "import numpy as np\n",
    "\n",
    "#creating an array using numpy arange\n",
    "arr = np.arange(2,50,3)\n",
    "\n",
    "#printing the array\n",
    "print(arr)"
   ]
  },
  {
   "cell_type": "code",
   "execution_count": 27,
   "metadata": {},
   "outputs": [
    {
     "name": "stdout",
     "output_type": "stream",
     "text": [
      "\n",
      " Enter the value for lst_1: 2\n",
      "\n",
      " Enter the value for lst_1: 4\n",
      "\n",
      " Enter the value for lst_1: 5\n",
      "\n",
      " Enter the value for lst_1: 7\n",
      "\n",
      " Enter the value for lst_1: 5\n",
      "\n",
      " Enter the value for the lst_2: 9\n",
      "\n",
      " Enter the value for the lst_2: 3\n",
      "\n",
      " Enter the value for the lst_2: 5\n",
      "\n",
      " Enter the value for the lst_2: 2\n",
      "\n",
      " Enter the value for the lst_2: 1\n",
      "\n",
      " Value of concatenated array: [2 4 5 7 5 9 3 5 2 1]\n",
      "\n",
      " sorted array: [1 2 2 3 4 5 5 5 7 9]\n"
     ]
    }
   ],
   "source": [
    "#import numpy\n",
    "import numpy as np\n",
    "\n",
    "#creating two empty list\n",
    "lst_1 = []\n",
    "lst_2 = []\n",
    "\n",
    "#Getting values for lst_1\n",
    "for i in range(5):\n",
    "    x = int(input(\"\\n Enter the value for lst_1: \"))\n",
    "    lst_1.append(x)\n",
    "    \n",
    "#Getting values for lst_2\n",
    "for i in range(5):\n",
    "    x = int(input(\"\\n Enter the value for the lst_2: \"))\n",
    "    lst_2.append(x)\n",
    "    \n",
    "#converting into array\n",
    "arr_1 = np.array(lst_1)\n",
    "arr_2 = np.array(lst_2)\n",
    "\n",
    "#concatenating the array\n",
    "arr = np.concatenate((arr_1,arr_2))\n",
    "print(\"\\n Value of concatenated array:\",arr)\n",
    "\n",
    "#sorting the conccatenated array\n",
    "sortArr = np.sort(arr)\n",
    "print(\"\\n sorted array:\",sortArr )\n"
   ]
  },
  {
   "cell_type": "code",
   "execution_count": 18,
   "metadata": {},
   "outputs": [
    {
     "name": "stdout",
     "output_type": "stream",
     "text": [
      "\n",
      " Dimensions of array:  2\n",
      "\n",
      " Size of the array:  9\n"
     ]
    }
   ],
   "source": [
    " #importing numpy\n",
    "import numpy as np    \n",
    "\n",
    "#creating a 2d array\n",
    "arr = np.array([[4,6,7],[2,8,9],[3,4,5]])\n",
    "\n",
    "#printing array dimensions\n",
    "print(\"\\n Dimensions of array: \", arr.ndim)\n",
    "\n",
    "#printing array size\n",
    "print(\"\\n Size of the array: \", arr.size)"
   ]
  },
  {
   "cell_type": "code",
   "execution_count": 20,
   "metadata": {},
   "outputs": [
    {
     "name": "stdout",
     "output_type": "stream",
     "text": [
      "\n",
      " shape of array: (10,)\n",
      "\n",
      " shape of 2d array in row major:  (1, 10)\n",
      "\n",
      " shape of 2d array in column major:  (10, 1)\n"
     ]
    }
   ],
   "source": [
    "#importing numpy \n",
    "import numpy as np\n",
    "\n",
    "#creating a 1d array\n",
    "arr = np.arange(10)\n",
    "print(\"\\n shape of array:\",arr.shape)\n",
    "\n",
    "#converting using newaxis in row dimensions\n",
    "row_arr = arr[np.newaxis, :]\n",
    "print(\"\\n shape of 2d array in row major: \",row_arr.shape)\n",
    "\n",
    "#converting using newaxis in coloumn dimensions\n",
    "col_arr = arr[:, np.newaxis]\n",
    "print(\"\\n shape of 2d array in column major: \", col_arr.shape)\n",
    "\n"
   ]
  },
  {
   "cell_type": "code",
   "execution_count": 22,
   "metadata": {},
   "outputs": [
    {
     "name": "stdout",
     "output_type": "stream",
     "text": [
      "\n",
      " shape of array: (10,)\n",
      "\n",
      " Shape of 2d array in row major:  (1, 10)\n",
      "\n",
      " Shape of 2nd array in column major:  (10, 1)\n"
     ]
    }
   ],
   "source": [
    "#importing numpy\n",
    "import numpy as np\n",
    "\n",
    "#creating a 1d array\n",
    "arr = np.arange(10)\n",
    "print(\"\\n shape of array:\",arr.shape)\n",
    "\n",
    "#converting using newaxis in row dimensions\n",
    "row_arr = np.expand_dims(arr,axis=0)\n",
    "print(\"\\n Shape of 2d array in row major: \", row_arr.shape)\n",
    "\n",
    "#converting using newaxis in column dimensions\n",
    "col_arr = np.expand_dims(arr,axis=1)\n",
    "print(\"\\n Shape of 2nd array in column major: \",col_arr.shape)"
   ]
  },
  {
   "cell_type": "code",
   "execution_count": 25,
   "metadata": {},
   "outputs": [
    {
     "name": "stdout",
     "output_type": "stream",
     "text": [
      "\n",
      "Horizontal append:  [  1   4   9  16  25  36  49  64  81 100]\n",
      "\n",
      "Vertical append:  [[  1   4   9  16  25]\n",
      " [ 36  49  64  81 100]]\n"
     ]
    }
   ],
   "source": [
    "#importing numpy\n",
    "import numpy as np\n",
    "\n",
    "#creating a array with sqauare values\n",
    "arr_1 = np.square([1,2,3,4,5])\n",
    "arr_2 = np.square([6,7,8,9,10])\n",
    "\n",
    "#stacking and printing the value\n",
    "print(\"\\nHorizontal append: \",np.hstack((arr_1,arr_2)))\n",
    "print(\"\\nVertical append: \",np.vstack((arr_1,arr_2)))"
   ]
  },
  {
   "cell_type": "code",
   "execution_count": 26,
   "metadata": {},
   "outputs": [
    {
     "name": "stdout",
     "output_type": "stream",
     "text": [
      "[[ 1  1]\n",
      " [ 2  2]\n",
      " [ 3  3]\n",
      " [ 4  1]\n",
      " [ 5  2]\n",
      " [ 6  1]\n",
      " [ 7  3]\n",
      " [ 8  2]\n",
      " [ 9  2]\n",
      " [10  1]\n",
      " [14  1]]\n"
     ]
    }
   ],
   "source": [
    "#importing numpy\n",
    "import numpy as np\n",
    "\n",
    "#creating an array \n",
    "arr_1 = np.array([1,5,7,3,8,2,4,3,3,2,5,6,7,9,8,10,14,7,9])\n",
    "\n",
    "#getting unique characters and its count\n",
    "unique, counts = np.unique(arr_1,return_counts=True)\n",
    "\n",
    "#making a unique item\n",
    "arr = np.asarray((unique,counts)).T\n",
    "\n",
    "print(arr)"
   ]
  },
  {
   "cell_type": "code",
   "execution_count": null,
   "metadata": {},
   "outputs": [],
   "source": []
  }
 ],
 "metadata": {
  "kernelspec": {
   "display_name": "Python 3",
   "language": "python",
   "name": "python3"
  },
  "language_info": {
   "codemirror_mode": {
    "name": "ipython",
    "version": 3
   },
   "file_extension": ".py",
   "mimetype": "text/x-python",
   "name": "python",
   "nbconvert_exporter": "python",
   "pygments_lexer": "ipython3",
   "version": "3.7.4"
  }
 },
 "nbformat": 4,
 "nbformat_minor": 2
}
