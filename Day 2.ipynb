{
 "cells": [
  {
   "cell_type": "code",
   "execution_count": 1,
   "metadata": {},
   "outputs": [
    {
     "name": "stdout",
     "output_type": "stream",
     "text": [
      "\n",
      " Enter the value:1\n",
      "\n",
      " Enter the value:2\n",
      "\n",
      " Enter the value:3\n",
      "\n",
      " Enter the value:4\n",
      "\n",
      " Enter the value:5\n",
      "\n",
      " Enter the value:6\n",
      "\n",
      " Enter the value:7\n",
      "\n",
      " Enter the value:8\n",
      "\n",
      " Enter the value:9\n",
      "\n",
      " Enter the value:10\n",
      "\n",
      " The even values: [2, 4, 6, 8, 10]\n"
     ]
    }
   ],
   "source": [
    " lst = []\n",
    "\n",
    "for i in range(0,10):\n",
    "    x = int(input(\"\\n Enter the value:\"))\n",
    "    lst.append(x)\n",
    "    \n",
    "even_lst = []\n",
    "for i in lst:\n",
    "    if(i%2==0):\n",
    "        even_lst.append(i)\n",
    "        \n",
    "print(\"\\n The even values:\",even_lst)"
   ]
  },
  {
   "cell_type": "markdown",
   "metadata": {},
   "source": [
    "<b><strong>List comprehensions are used for creating new lists from other iterables.</strong></b>\n",
    "\n",
    "As list comprehensions return lists, they consist of brackets containing the expression, which is executed for each element along with the for loop to iterate over each element.\n",
    "\n",
    "Syntax:\n",
    "new_list = (value for_loop condition)"
   ]
  },
  {
   "cell_type": "code",
   "execution_count": 12,
   "metadata": {},
   "outputs": [
    {
     "name": "stdout",
     "output_type": "stream",
     "text": [
      "[2, 4, 6, 8, 10]\n"
     ]
    }
   ],
   "source": [
    "lst = [1,2,3,4,5,6,7,8,9,10]\n",
    "\n",
    "\n",
    "even_lst = [i for i in lst if i%2==0]\n",
    "\n",
    "print(even_lst)"
   ]
  },
  {
   "cell_type": "code",
   "execution_count": 13,
   "metadata": {},
   "outputs": [
    {
     "name": "stdout",
     "output_type": "stream",
     "text": [
      "8\n",
      "{1: 1, 2: 4, 3: 9, 4: 16, 5: 25, 6: 36, 7: 49, 8: 64}\n"
     ]
    }
   ],
   "source": [
    "dict = {}\n",
    "\n",
    "\n",
    "n = int(input())\n",
    "for i in range(1,n+1):\n",
    "    dict[i] = i*i\n",
    "    \n",
    "print(dict)"
   ]
  },
  {
   "cell_type": "code",
   "execution_count": 1,
   "metadata": {},
   "outputs": [
    {
     "name": "stdout",
     "output_type": "stream",
     "text": [
      "4\n",
      "5\n",
      "3\n",
      "3\n",
      "2\n",
      "0\n"
     ]
    }
   ],
   "source": [
    "\n",
    "pos = {\"x\":0,\"y\":0}\n",
    "n = int(input())\n",
    "for i in range (n):\n",
    "    \n",
    "    \n",
    "    move =  input().split(\" \")      \n",
    "    \n",
    "    if move[0].lower() ==  \"UP\":     \n",
    "        pos[\"y\"] += int(move[1])    \n",
    "    \n",
    "    elif move[0].lower() == \"DOWN\":\n",
    "        pos[\"y\"] -= int(move[1])\n",
    "    \n",
    "    elif move[0].lower() ==  \"LEFT\":\n",
    "        pos[\"x\"] -= int(move[1])\n",
    "    \n",
    "    elif move[0].lower() ==  \"RIGHT\":\n",
    "        pos[\"x\"] += int(move[1])\n",
    "\n",
    "        \n",
    "print(int(round((pos[\"x\"]**2 + pos[\"y\"]**2) **0.5)))  "
   ]
  },
  {
   "cell_type": "code",
   "execution_count": null,
   "metadata": {},
   "outputs": [],
   "source": []
  },
  {
   "cell_type": "code",
   "execution_count": null,
   "metadata": {},
   "outputs": [],
   "source": []
  },
  {
   "cell_type": "code",
   "execution_count": null,
   "metadata": {},
   "outputs": [],
   "source": []
  }
 ],
 "metadata": {
  "kernelspec": {
   "display_name": "Python 3",
   "language": "python",
   "name": "python3"
  },
  "language_info": {
   "codemirror_mode": {
    "name": "ipython",
    "version": 3
   },
   "file_extension": ".py",
   "mimetype": "text/x-python",
   "name": "python",
   "nbconvert_exporter": "python",
   "pygments_lexer": "ipython3",
   "version": "3.7.4"
  }
 },
 "nbformat": 4,
 "nbformat_minor": 2
}
